{
 "cells": [
  {
   "cell_type": "code",
   "execution_count": 1,
   "metadata": {},
   "outputs": [],
   "source": [
    "import os\n",
    "from notion_client import Client\n",
    "\n",
    "notion = Client(auth=os.getenv(\"NOTION_TOKEN\"))\n",
    "recipe_book_id = \"7381d2928f9745d484a9322122760a00\"\n",
    "igrd_id = '01dfa2430d6c4908b7fa6a78deb6e037'"
   ]
  },
  {
   "cell_type": "code",
   "execution_count": 2,
   "metadata": {},
   "outputs": [],
   "source": [
    "def get_database(id):\n",
    "    full_or_partial_pages = notion.databases.query(\n",
    "        database_id=id\n",
    "    )\n",
    "    if full_or_partial_pages['has_more']:\n",
    "        raise Warning('Problème avec la pagiation')\n",
    "    else:\n",
    "        database = full_or_partial_pages\n",
    "    return database.get('results')"
   ]
  },
  {
   "cell_type": "code",
   "execution_count": 9,
   "metadata": {},
   "outputs": [
    {
     "name": "stdout",
     "output_type": "stream",
     "text": [
      "Skipped wrong URL : oui\n"
     ]
    },
    {
     "data": {
      "text/plain": [
       "'Found 23 url'"
      ]
     },
     "execution_count": 9,
     "metadata": {},
     "output_type": "execute_result"
    }
   ],
   "source": [
    "def get_url_dict(database_id):\n",
    "    \"\"\"\n",
    "    Return Dict id:url\n",
    "    \"\"\"\n",
    "    database = get_database(database_id)\n",
    "    url_dict = {}\n",
    "    for page in database:\n",
    "        try:\n",
    "            page_id = page['id']\n",
    "            url = page['properties']['URL']['url']\n",
    "            if url[:5] == \"https\":\n",
    "                url_dict[page_id] = url\n",
    "            else:\n",
    "                print(f\"Skipped wrong URL : {url}\")\n",
    "        except KeyError:\n",
    "            print(\"Key error\")\n",
    "    return url_dict\n",
    "f'Found {len(get_url_dict(recipe_book_id))} url'"
   ]
  },
  {
   "cell_type": "code",
   "execution_count": 4,
   "metadata": {},
   "outputs": [
    {
     "data": {
      "text/plain": [
       "{'c5d6334e-5469-4397-b8d0-c6d5700016ad': 'HEYYY',\n",
       " '97c5df5e-519f-4db1-aeb6-95e794195a22': 'HEYYY',\n",
       " '21798723-d748-4bfb-9e33-e49c11f90eed': 'oui',\n",
       " 'f04fbbde-9574-4845-92dd-c93696290d61': 'Leek',\n",
       " 'fb87177a-e96e-44f9-b4b0-1344613a6398': 'Tofu'}"
      ]
     },
     "execution_count": 4,
     "metadata": {},
     "output_type": "execute_result"
    }
   ],
   "source": [
    "def get_existing_irgd(database):\n",
    "    \"\"\"\n",
    "    Return Dict : id:irgd\n",
    "    \"\"\"\n",
    "    igrd_dict = {}\n",
    "    for page in database:\n",
    "        try:\n",
    "            igrd_dict[page['id']] = page['properties']['Name']['title'][0]['text']['content']\n",
    "        except KeyError:\n",
    "            print('Key error mais très étrange')\n",
    "    return igrd_dict\n",
    "get_existing_irgd(get_database(igrd_id))"
   ]
  },
  {
   "cell_type": "code",
   "execution_count": 5,
   "metadata": {},
   "outputs": [],
   "source": [
    "def add_igrd_to_recipe(recipe_id, igrd_id):\n",
    "    \"\"\"\n",
    "    Add ingredient to the recipe\n",
    "    \"\"\"\n",
    "    igrd_prop = notion.pages.retrieve(recipe_id)['properties']['Ingredients']\n",
    "    igrd_prop['relation'].append({'id': igrd_id})\n",
    "    notion.pages.update(page_id=recipe_id, properties={\n",
    "            \"Ingredients\": igrd_prop\n",
    "    })\n",
    "# add_igrd_to_recipe('2c7d1976-0fea-4db9-b054-d9581f6503fc', 'fb87177a-e96e-44f9-b4b0-1344613a6398')\n",
    "\n",
    "\n",
    "def add_igrd_to_database(database_id, name):\n",
    "    \"\"\"\n",
    "    Add ingredient to the ingredient database\n",
    "    \"\"\"\n",
    "    notion.pages.create(\n",
    "        parent={\n",
    "            \"type\": \"database_id\",\n",
    "            \"database_id\": database_id\n",
    "        },\n",
    "        properties={\n",
    "            'Name': {\n",
    "                'id': 'title',\n",
    "                'type': 'title',\n",
    "                'title': [{'type': 'text',\n",
    "                'text': {'content': name, 'link': None},\n",
    "                'annotations': {'bold': False,\n",
    "                'italic': False,\n",
    "                'strikethrough': False,\n",
    "                'underline': False,\n",
    "                'code': False,\n",
    "                'color': 'default'},\n",
    "                'plain_text': 'Mocha Hazelnut Oatmeal',\n",
    "                'href': None\n",
    "                }]\n",
    "            }\n",
    "        }\n",
    "    )\n",
    "# add_igrd_to_database(igrd_id, 'HEYYY')\n"
   ]
  },
  {
   "cell_type": "code",
   "execution_count": 6,
   "metadata": {},
   "outputs": [],
   "source": [
    "# notion.pages.retrieve('2c7d1976-0fea-4db9-b054-d9581f6503fc')['properties']"
   ]
  },
  {
   "cell_type": "markdown",
   "metadata": {},
   "source": [
    "# Scrapping"
   ]
  },
  {
   "cell_type": "code",
   "execution_count": 17,
   "metadata": {},
   "outputs": [],
   "source": [
    "import requests\n",
    "from bs4 import BeautifulSoup\n",
    "\n",
    "def get_recipe_igrd_from_url(url):\n",
    "    page = requests.get(url)\n",
    "    soup = BeautifulSoup(page.content, \"html.parser\")\n",
    "    igrd_div = soup.find('div', 'ingredientlist')\n",
    "    if igrd_div == None:\n",
    "        print(\"No igredients found\")\n",
    "        return None\n",
    "    igrd_list = igrd_div.find_all(\"span\", \"ingredient-name-text\")\n",
    "    igrd_list = list(map(lambda x: x.string, igrd_list))\n",
    "    return igrd_list\n",
    "\n",
    "def clean_igrd_list():\n",
    "    get_existing_irgd()"
   ]
  },
  {
   "cell_type": "markdown",
   "metadata": {},
   "source": [
    "# BOOM Fusion"
   ]
  },
  {
   "cell_type": "code",
   "execution_count": 22,
   "metadata": {},
   "outputs": [
    {
     "name": "stdout",
     "output_type": "stream",
     "text": [
      "Skipped wrong URL : oui\n",
      "https://www.pickuplimes.com/recipe/turkish-red-lentil-soup-26\n",
      "['vegetable oil', 'medium onion', 'water', 'vegetable bouillon cube', 'dry red lentils', 'medium potato', 'paprika powder', 'onion powder', 'garlic powder', 'balsamic vinegar', 'ground black pepper', 'salt', 'unsweetened coconut yogurt', 'slices whole wheat bread']\n",
      "https://www.pickuplimes.com/recipe/grilled-red-pepper-pesto-pasta-314\n",
      "['olive oil', 'red bell peppers', 'orange bell pepper', 'salt', 'ground black pepper', 'cloves garlic', 'medium zucchini', 'dry spaghetti noodles', 'sun-dried tomatoes in oil', 'roasted walnuts', 'frozen green peas']\n",
      "https://www.pickuplimes.com/recipe/coconut-tofu-thai-red-curry-255\n",
      "['vegetable oil', 'medium shallots', 'cloves garlic', 'medium potatoes', 'Thai red curry paste', 'water', 'uncooked basmati rice', 'pre-seasoned tofu strips', 'red bell peppers', 'small broccoli', 'canned full-fat coconut milk', 'sodium-reduced\\xa0soy sauce', 'sambal oelek', 'roasted cashews']\n",
      "https://www.pickuplimes.com/recipe/one-pot-veggie-lentil-soup-94\n",
      "['vegetable oil', 'medium onions', 'cloves garlic', 'red hot chili', 'ground turmeric', 'curry powder', 'garam masala', 'salt', 'ground black pepper', 'water', 'vegetable bouillon cubes', 'dry brown lentils', 'medium potatoes', 'medium carrots', 'medium broccoli']\n",
      "https://www.pickuplimes.com/recipe/saucy-beans-on-garlic-toast-901\n",
      "['cloves garlic', 'olive oil', 'slices rustic bread', 'cooked navy beans', 'canned tomato paste', 'water', 'vegetable bouillon cube', 'chipotle adobo sauce', 'maple syrup', 'ground cumin', 'onion powder', 'soy Greek yogurt', 'pickled jalapeño slices']\n",
      "https://www.pickuplimes.com/recipe/warm-tahini-chocolate-banana-wrap-460\n",
      "['tahini', 'maple syrup', 'Dutch processed cocoa powder', 'medium banana', 'medium (19 cm) soft tortilla', 'roasted hazelnuts']\n",
      "https://www.ethanchlebowski.com/cooking-techniques-recipes/one-pot-pastas\n",
      "No igredients found\n",
      "None\n",
      "https://cdn.pickuplimes.com/resource/files/2021/08/06/VEGAN_BUDGET_CHALLENGE__11_meals_for_5_days.pdf\n"
     ]
    },
    {
     "name": "stderr",
     "output_type": "stream",
     "text": [
      "Some characters could not be decoded, and were replaced with REPLACEMENT CHARACTER.\n"
     ]
    },
    {
     "name": "stdout",
     "output_type": "stream",
     "text": [
      "No igredients found\n",
      "None\n",
      "https://www.pickuplimes.com/recipe/roasted-vegetable-salad-with-crispy-chickpeas-596\n",
      "['cooked chickpeas', 'vegetable oil', 'burrito seasoning', 'medium potatoes', 'medium carrots', 'cloves garlic', 'vegetable oil', 'burrito seasoning', 'medium onions', 'fresh spinach', 'frozen green peas', 'unsweetened soy yogurt', 'salt', 'ground black pepper']\n",
      "https://www.pickuplimes.com/recipe/macaroni-salad-with-lentil-quesadillas-592\n",
      "['canned diced tomatoes', 'medium onion', 'clove garlic', 'salt', 'ground black pepper', 'dry whole wheat macaroni', 'frozen green peas', 'medium carrot', 'unsweetened soy yogurt', 'minced onion', 'burrito seasoning', 'vegetable bouillon cube', 'ground black pepper', 'dry green lentils', 'canned crushed tomatoes', 'burrito seasoning', 'large (25 cm) soft tortillas', 'vegetable oil']\n",
      "https://www.pickuplimes.com/recipe/make-ahead-freezer-burritos-330\n",
      "['soy veggie ground', 'Mexican spice mix', 'large (25 cm) soft tortillas', 'refried beans', 'red bell peppers', 'stalks green onion', 'canned corn', 'fresh cilantro', 'sliced black olives', 'pickled jalapeño slices']\n",
      "https://www.youtube.com/watch?v=wtS8PTaedzA\n",
      "No igredients found\n",
      "None\n",
      "https://mealprepmanual.com/chocolate-chip-banana-bread-baked-oatmeal/\n",
      "No igredients found\n",
      "None\n",
      "https://www.pickuplimes.com/recipe/speedy-pea-basil-pesto-pasta-176\n",
      "['dry linguine noodles', 'cloves garlic', 'vegetable oil', 'medium shallots', 'roasted red bell peppers from a jar', 'lemon', 'fresh green peas', 'toasted pine nuts', 'fresh basil', 'olive oil', 'salt', 'ground black pepper', 'arugula']\n",
      "https://www.pickuplimes.com/recipe/tempeh-tacos-with-cashew-lime-cream-174\n",
      "['vegetable oil', 'medium shallots', 'cloves garlic', 'tempeh', 'onion powder', 'paprika powder', 'ground cumin', 'chili powder', 'dried oregano', 'ground black pepper', 'canned diced tomatoes', 'sodium-reduced\\xa0soy sauce', 'small (10 cm) corn tortillas', 'cherry tomatoes', 'avocado', 'minced red onion', 'raw cashews', 'boiling water', 'lime']\n",
      "https://www.pickuplimes.com/recipe/instant-thai-curry-noodle-soup-896\n",
      "['coconut cream', 'vegan Thai green curry paste', 'clove garlic', 'firm tofu', 'shredded red cabbage', 'medium carrot', 'red bell pepper', 'vegetable bouillon cube', 'fresh spinach', 'dry white rice vermicelli noodles', 'boiling water']\n",
      "https://www.pickuplimes.com/recipe/thai-red-curry-noodle-soup-with-crispy-tofu-175\n",
      "['vegetable oil', 'firm tofu', 'vegetable oil', 'cloves garlic', 'freshly grated ginger', 'Thai red curry paste', 'boiling water', 'canned full-fat coconut milk', 'vegetable bouillon cube', 'sodium-reduced\\xa0soy sauce', 'sambal oelek', 'red bell pepper', 'dry brown rice noodles', 'small heads bok choy']\n",
      "https://www.pickuplimes.com/recipe/harissa-spiced-beans-898\n",
      "['olive oil', 'small onion', 'clove garlic', 'yellow bell pepper', 'cooked butter beans', 'cherry tomatoes', 'harissa sauce', 'salt', 'ground black pepper', 'lemon', 'unsweetened coconut yogurt', 'avocado', 'toasted pita breads']\n",
      "https://www.pickuplimes.com/recipe/leek-and-spinach-tofu-quiche-589\n",
      "['medium leeks', 'vegetable oil', 'medium onion', 'cloves garlic', 'salt', 'fresh spinach', 'vegetable bouillon cube', 'dried thyme', 'dried parsley', 'ground black pepper', 'vegan puff pastry dough', 'breadcrumbs', 'firm tofu', 'lemons', 'nutritional yeast flakes', 'cornstarch', 'dijon mustard', 'ground turmeric', 'kala namak', 'cherry tomatoes']\n",
      "https://www.allrecipes.com/recipe/147103/delicious-egg-salad-for-sandwiches/\n",
      "No igredients found\n",
      "None\n",
      "https://rainbowplantlife.com/vegan-chili/\n",
      "No igredients found\n",
      "None\n",
      "https://www.pickuplimes.com/recipe/gingerbread-oatmeal-with-caramelized-pear-731\n",
      "['rolled oats', 'unsweetened soy milk', 'ground cinnamon', 'ground ginger', 'ground cloves', 'ground allspice', 'ground flaxseeds', 'maple syrup', 'blackstrap molasses', 'pear', 'maple syrup', 'unsweetened coconut yogurt', 'chopped roasted pecans']\n",
      "https://www.pickuplimes.com/recipe/mocha-hazelnut-oatmeal-732\n",
      "['rolled oats', 'unsweetened almond milk', 'Dutch processed cocoa powder', 'instant coffee granules', 'dairy-free dark chocolate', 'maple syrup', 'salt', 'small bananas', 'unsweetened coconut yogurt', 'hazelnut butter', 'roasted hazelnuts']\n"
     ]
    }
   ],
   "source": [
    "url_id_dict = get_url_dict(recipe_book_id)\n",
    "for url in url_id_dict.values():\n",
    "    if url.find('pickuplimes') == -1:\n",
    "        continue\n",
    "    else:\n",
    "        print(url)\n",
    "        irgd_list = get_recipe_igrd_from_url(url)\n",
    "        print(irgd_list)\n",
    "        "
   ]
  },
  {
   "cell_type": "code",
   "execution_count": 21,
   "metadata": {},
   "outputs": [
    {
     "data": {
      "text/plain": [
       "-1"
      ]
     },
     "execution_count": 21,
     "metadata": {},
     "output_type": "execute_result"
    }
   ],
   "source": [
    "\"https://www.pickuplimes.com/recipe/turkish-red-lentil-soup-26\".find('fdsf')"
   ]
  }
 ],
 "metadata": {
  "kernelspec": {
   "display_name": "Python 3.8.10 64-bit",
   "language": "python",
   "name": "python3"
  },
  "language_info": {
   "codemirror_mode": {
    "name": "ipython",
    "version": 3
   },
   "file_extension": ".py",
   "mimetype": "text/x-python",
   "name": "python",
   "nbconvert_exporter": "python",
   "pygments_lexer": "ipython3",
   "version": "3.8.10"
  },
  "orig_nbformat": 4,
  "vscode": {
   "interpreter": {
    "hash": "916dbcbb3f70747c44a77c7bcd40155683ae19c65e1c03b4aa3499c5328201f1"
   }
  }
 },
 "nbformat": 4,
 "nbformat_minor": 2
}
