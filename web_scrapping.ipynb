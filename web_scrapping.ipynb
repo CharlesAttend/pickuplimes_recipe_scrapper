{
 "cells": [
  {
   "cell_type": "code",
   "execution_count": 2,
   "metadata": {},
   "outputs": [],
   "source": [
    "import requests\n",
    "from bs4 import BeautifulSoup\n",
    "\n",
    "URL = \"https://www.pickuplimes.com/recipe/tempeh-tacos-with-cashew-lime-cream-174\"\n",
    "page = requests.get(URL)\n",
    "\n",
    "soup = BeautifulSoup(page.content, \"html.parser\")\n"
   ]
  },
  {
   "cell_type": "code",
   "execution_count": 79,
   "metadata": {},
   "outputs": [
    {
     "data": {
      "text/plain": [
       "['vegetable oil',\n",
       " 'medium shallots',\n",
       " 'cloves garlic',\n",
       " 'tempeh',\n",
       " 'onion powder',\n",
       " 'paprika powder',\n",
       " 'ground cumin',\n",
       " 'chili powder',\n",
       " 'dried oregano',\n",
       " 'ground black pepper',\n",
       " 'canned diced tomatoes',\n",
       " 'sodium-reduced\\xa0soy sauce',\n",
       " 'small (10 cm) corn tortillas',\n",
       " 'cherry tomatoes',\n",
       " 'avocado',\n",
       " 'minced red onion',\n",
       " 'raw cashews',\n",
       " 'boiling water',\n",
       " 'lime']"
      ]
     },
     "execution_count": 79,
     "metadata": {},
     "output_type": "execute_result"
    }
   ],
   "source": [
    "igrd_div = soup.find('div', 'ingredientlist')\n",
    "igrd_list = igrd_div.find_all(\"span\", \"ingredient-name-text\")\n",
    "igrd_list = list(map(lambda x: x.string, igrd_list))\n",
    "igrd_list"
   ]
  },
  {
   "cell_type": "code",
   "execution_count": null,
   "metadata": {},
   "outputs": [],
   "source": [
    "# Mais l'API de Notion est uniquement en JS bruhh \n",
    "# Go refaire en JS "
   ]
  }
 ],
 "metadata": {
  "kernelspec": {
   "display_name": "Python 3.8.10 64-bit",
   "language": "python",
   "name": "python3"
  },
  "language_info": {
   "codemirror_mode": {
    "name": "ipython",
    "version": 3
   },
   "file_extension": ".py",
   "mimetype": "text/x-python",
   "name": "python",
   "nbconvert_exporter": "python",
   "pygments_lexer": "ipython3",
   "version": "3.8.10"
  },
  "orig_nbformat": 4,
  "vscode": {
   "interpreter": {
    "hash": "31f2aee4e71d21fbe5cf8b01ff0e069b9275f58929596ceb00d14d90e3e16cd6"
   }
  }
 },
 "nbformat": 4,
 "nbformat_minor": 2
}
